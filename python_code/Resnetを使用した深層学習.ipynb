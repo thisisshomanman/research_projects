{
 "cells": [
  {
   "cell_type": "code",
   "execution_count": 1,
   "id": "d8266806",
   "metadata": {},
   "outputs": [
    {
     "name": "stderr",
     "output_type": "stream",
     "text": [
      "/Users/shomak/anaconda3/lib/python3.10/site-packages/torchvision/models/_utils.py:208: UserWarning: The parameter 'pretrained' is deprecated since 0.13 and may be removed in the future, please use 'weights' instead.\n",
      "  warnings.warn(\n",
      "/Users/shomak/anaconda3/lib/python3.10/site-packages/torchvision/models/_utils.py:223: UserWarning: Arguments other than a weight enum or `None` for 'weights' are deprecated since 0.13 and may be removed in the future. The current behavior is equivalent to passing `weights=None`.\n",
      "  warnings.warn(msg)\n"
     ]
    }
   ],
   "source": [
    "import torch\n",
    "import torch.nn as nn\n",
    "import torch.optim as optim\n",
    "from torch.utils.data import DataLoader\n",
    "from torchvision import datasets, transforms\n",
    "from torchvision.models import resnet50, resnet18, resnet34\n",
    "import matplotlib.pyplot as plt\n",
    "import torch.nn.functional as F\n",
    "\n",
    "# データの前処理を定義\n",
    "transform = transforms.Compose([\n",
    "    transforms.Grayscale(),\n",
    "    transforms.Resize((30,30)),\n",
    "    transforms.ToTensor(),\n",
    "])\n",
    "\n",
    "# データセットをロード\n",
    "train_data = datasets.ImageFolder(\"データのパス\", transform=transform)\n",
    "train_loader = DataLoader(train_data, batch_size=2, shuffle=True)\n",
    "\n",
    "# ResNetの最初の畳み込み層とプーリング層を調整\n",
    "model = resnet18(pretrained=False, num_classes=2)\n",
    "model.conv1 = nn.Conv2d(1, 64, kernel_size=3, stride=1, padding=1, bias=False) # Grayscale image input\n",
    "model.maxpool = nn.MaxPool2d(kernel_size=1, stride=1) # Prevent too much downsampling\n",
    "\n",
    "optimizer = optim.Adam(model.parameters(), lr=0.001)\n"
   ]
  },
  {
   "cell_type": "code",
   "execution_count": 2,
   "id": "00e33a55",
   "metadata": {},
   "outputs": [],
   "source": [
    "# 学習と評価\n",
    "def train(epoch):\n",
    "    model.train()\n",
    "    for batch_idx, (data, target) in enumerate(train_loader):\n",
    "        optimizer.zero_grad()\n",
    "        output = model(data)\n",
    "        loss = F.nll_loss(output, target)\n",
    "        loss.backward()\n",
    "        optimizer.step()\n",
    "        #以下省略する\n",
    "        \"\"\"\n",
    "        if batch_idx % 10 == 0:\n",
    "            print('Train Epoch: {} [{}/{} ({:.0f}%)]\\tLoss: {:.6f}'.format(\n",
    "                epoch, batch_idx * len(data), len(train_loader.dataset),\n",
    "                100. * batch_idx / len(train_loader), loss.item()))\n",
    "            \"\"\"\n",
    "            \n",
    "def test():\n",
    "    model.eval()\n",
    "    test_loss = 0\n",
    "    correct = 0\n",
    "    with torch.no_grad():\n",
    "        for data, target in train_loader:\n",
    "            output = model(data)\n",
    "            test_loss += F.nll_loss(output, target, reduction='sum').item()\n",
    "            \n",
    "            pred = output.argmax(dim=1, keepdim=True)\n",
    "            correct += pred.eq(target.view_as(pred)).sum().item()\n",
    "\n",
    "    test_loss /= len(train_loader.dataset)\n",
    "    accuracy = 100. * correct / len(train_loader.dataset)\n",
    "    print('\\nTest set {}: Average loss: {:.4f}, Accuracy: {}/{} ({:.0f}%)'.format(epoch, \n",
    "        test_loss, correct, len(train_loader.dataset), accuracy))\n",
    "    \n",
    "    return accuracy        "
   ]
  },
  {
   "cell_type": "code",
   "execution_count": 3,
   "id": "447a3d40",
   "metadata": {
    "scrolled": false
   },
   "outputs": [
    {
     "name": "stdout",
     "output_type": "stream",
     "text": [
      "\n",
      "Test set 1: Average loss: -792.6273, Accuracy: 450/900 (50%)\n",
      "\n",
      "Test set 2: Average loss: -2739.7414, Accuracy: 450/900 (50%)\n",
      "\n",
      "Test set 3: Average loss: -5747.3495, Accuracy: 450/900 (50%)\n",
      "\n",
      "Test set 4: Average loss: -9681.2526, Accuracy: 450/900 (50%)\n",
      "\n",
      "Test set 5: Average loss: -16436.3916, Accuracy: 450/900 (50%)\n",
      "\n",
      "Test set 6: Average loss: -23234.3693, Accuracy: 450/900 (50%)\n",
      "\n",
      "Test set 7: Average loss: -30661.4937, Accuracy: 450/900 (50%)\n",
      "\n",
      "Test set 8: Average loss: -38725.9809, Accuracy: 450/900 (50%)\n",
      "\n",
      "Test set 9: Average loss: -47435.1904, Accuracy: 450/900 (50%)\n",
      "\n",
      "Test set 10: Average loss: -56775.2267, Accuracy: 450/900 (50%)\n",
      "\n",
      "Test set 11: Average loss: -66831.5444, Accuracy: 450/900 (50%)\n",
      "\n",
      "Test set 12: Average loss: -77496.2994, Accuracy: 450/900 (50%)\n",
      "\n",
      "Test set 13: Average loss: -88816.0080, Accuracy: 450/900 (50%)\n",
      "\n",
      "Test set 14: Average loss: -100716.4660, Accuracy: 450/900 (50%)\n",
      "\n",
      "Test set 15: Average loss: -113360.8835, Accuracy: 450/900 (50%)\n",
      "\n",
      "Test set 16: Average loss: -126672.9190, Accuracy: 450/900 (50%)\n",
      "\n",
      "Test set 17: Average loss: -140529.6505, Accuracy: 450/900 (50%)\n",
      "\n",
      "Test set 18: Average loss: -154997.1714, Accuracy: 450/900 (50%)\n",
      "\n",
      "Test set 19: Average loss: -170070.0014, Accuracy: 450/900 (50%)\n",
      "\n",
      "Test set 20: Average loss: -185799.9165, Accuracy: 450/900 (50%)\n",
      "\n",
      "Test set 21: Average loss: -202136.2731, Accuracy: 450/900 (50%)\n",
      "\n",
      "Test set 22: Average loss: -219069.0977, Accuracy: 450/900 (50%)\n",
      "\n",
      "Test set 23: Average loss: -236627.9863, Accuracy: 450/900 (50%)\n",
      "\n",
      "Test set 24: Average loss: -254742.1010, Accuracy: 450/900 (50%)\n",
      "\n",
      "Test set 25: Average loss: -273638.5624, Accuracy: 450/900 (50%)\n",
      "\n",
      "Test set 26: Average loss: -293012.1099, Accuracy: 450/900 (50%)\n",
      "\n",
      "Test set 27: Average loss: -312935.2262, Accuracy: 450/900 (50%)\n",
      "\n",
      "Test set 28: Average loss: -333690.3356, Accuracy: 450/900 (50%)\n",
      "\n",
      "Test set 29: Average loss: -354711.2709, Accuracy: 450/900 (50%)\n",
      "\n",
      "Test set 30: Average loss: -376649.0133, Accuracy: 450/900 (50%)\n",
      "\n",
      "Test set 31: Average loss: -399027.3339, Accuracy: 450/900 (50%)\n",
      "\n",
      "Test set 32: Average loss: -421902.9671, Accuracy: 450/900 (50%)\n",
      "\n",
      "Test set 33: Average loss: -445534.0415, Accuracy: 450/900 (50%)\n",
      "\n",
      "Test set 34: Average loss: -469775.6777, Accuracy: 450/900 (50%)\n",
      "\n",
      "Test set 35: Average loss: -494639.1342, Accuracy: 450/900 (50%)\n",
      "\n",
      "Test set 36: Average loss: -520210.1089, Accuracy: 450/900 (50%)\n",
      "\n",
      "Test set 37: Average loss: -546270.2189, Accuracy: 450/900 (50%)\n",
      "\n",
      "Test set 38: Average loss: -572735.7951, Accuracy: 450/900 (50%)\n",
      "\n",
      "Test set 39: Average loss: -599746.8665, Accuracy: 450/900 (50%)\n",
      "\n",
      "Test set 40: Average loss: -627678.0222, Accuracy: 450/900 (50%)\n",
      "[50.0, 50.0, 50.0, 50.0, 50.0, 50.0, 50.0, 50.0, 50.0, 50.0, 50.0, 50.0, 50.0, 50.0, 50.0, 50.0, 50.0, 50.0, 50.0, 50.0, 50.0, 50.0, 50.0, 50.0, 50.0, 50.0, 50.0, 50.0, 50.0, 50.0, 50.0, 50.0, 50.0, 50.0, 50.0, 50.0, 50.0, 50.0, 50.0, 50.0]\n"
     ]
    }
   ],
   "source": [
    "# 各エポックでの正解率を保存するためのリスト\n",
    "accuracy_list = []\n",
    "\n",
    "for epoch in range(1, 40+1):\n",
    "    train(epoch)\n",
    "    accuracy = test()\n",
    "    accuracy_list.append(accuracy)\n",
    "\n",
    "acc_list = [round(accuracy_list[n], 1) for n in range(len(accuracy_list))]\n",
    "print(acc_list)"
   ]
  },
  {
   "cell_type": "code",
   "execution_count": 4,
   "id": "dfac67ef",
   "metadata": {},
   "outputs": [
    {
     "data": {
      "image/png": "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\n",
      "text/plain": [
       "<Figure size 640x480 with 1 Axes>"
      ]
     },
     "metadata": {},
     "output_type": "display_data"
    }
   ],
   "source": [
    "# 過学習を確認するために正解率のグラフを表示\n",
    "plt.plot(accuracy_list)\n",
    "plt.show()"
   ]
  },
  {
   "cell_type": "code",
   "execution_count": 5,
   "id": "b5426741",
   "metadata": {},
   "outputs": [],
   "source": [
    "# モデルを保存\n",
    "torch.save(model.state_dict(), \"model.pth\")"
   ]
  },
  {
   "cell_type": "code",
   "execution_count": 6,
   "id": "bef818ce",
   "metadata": {},
   "outputs": [
    {
     "name": "stdout",
     "output_type": "stream",
     "text": [
      "\n",
      "Test set: Average loss: -627698.1611, Accuracy: 90/180 (50%)\n",
      "\n"
     ]
    }
   ],
   "source": [
    "def test(test_loader):\n",
    "    model.eval()\n",
    "    test_loss = 0\n",
    "    correct = 0\n",
    "    with torch.no_grad():\n",
    "        for data, target in test_loader:\n",
    "            output = model(data)\n",
    "            test_loss += F.nll_loss(output, target, reduction='sum').item()\n",
    "            pred = output.argmax(dim=1, keepdim=True)\n",
    "            correct += pred.eq(target.view_as(pred)).sum().item()\n",
    "\n",
    "    test_loss /= len(test_loader.dataset)\n",
    "    accuracy = 100. * correct / len(test_loader.dataset)\n",
    "    print('\\nTest set: Average loss: {:.4f}, Accuracy: {}/{} ({:.0f}%)\\n'.format(\n",
    "        test_loss, correct, len(test_loader.dataset), accuracy))\n",
    "    \n",
    "    return accuracy\n",
    "\n",
    "\n",
    "\n",
    "# モデルのロード\n",
    "model_path = \"model.pth\"\n",
    "model.load_state_dict(torch.load(model_path))\n",
    "model.eval()\n",
    "\n",
    "# 新たな人物のデータセットをロード\n",
    "new_person_data = datasets.ImageFolder(\"test_data", transform=transform)\n",
    "new_person_loader = DataLoader(new_person_data, batch_size=2, shuffle=False)\n",
    "\n",
    "# テスト関数の呼び出し\n",
    "test_accuracy = test(new_person_loader)"
   ]
  },
  {
   "cell_type": "code",
   "execution_count": null,
   "id": "8b8a66d1",
   "metadata": {},
   "outputs": [],
   "source": []
  },
  {
   "cell_type": "code",
   "execution_count": null,
   "id": "bf36f6f6",
   "metadata": {},
   "outputs": [],
   "source": []
  },
  {
   "cell_type": "code",
   "execution_count": null,
   "id": "228deb7f",
   "metadata": {},
   "outputs": [],
   "source": []
  },
  {
   "cell_type": "code",
   "execution_count": null,
   "id": "bf38ae08",
   "metadata": {},
   "outputs": [],
   "source": []
  }
 ],
 "metadata": {
  "kernelspec": {
   "display_name": "Python 3 (ipykernel)",
   "language": "python",
   "name": "python3"
  },
  "language_info": {
   "codemirror_mode": {
    "name": "ipython",
    "version": 3
   },
   "file_extension": ".py",
   "mimetype": "text/x-python",
   "name": "python",
   "nbconvert_exporter": "python",
   "pygments_lexer": "ipython3",
   "version": "3.10.9"
  }
 },
 "nbformat": 4,
 "nbformat_minor": 5
}

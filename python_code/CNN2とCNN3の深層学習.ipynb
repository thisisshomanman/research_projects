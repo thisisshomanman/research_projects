{
 "cells": [
  {
   "cell_type": "code",
   "execution_count": 1,
   "id": "25859b97",
   "metadata": {},
   "outputs": [],
   "source": [
    "import torch\n",
    "import torch.nn as nn\n",
    "import torch.optim as optim\n",
    "from torch.utils.data import DataLoader\n",
    "from torchvision import datasets, transforms\n",
    "import matplotlib.pyplot as plt\n",
    "import torch.nn.functional as F"
   ]
  },
  {
   "cell_type": "code",
   "execution_count": 2,
   "id": "6eca455d",
   "metadata": {},
   "outputs": [],
   "source": [
    "# データの前処理を定義\n",
    "transform = transforms.Compose([\n",
    "    transforms.Grayscale(),\n",
    "    transforms.Resize((30,30)),\n",
    "    transforms.ToTensor(),\n",
    "])"
   ]
  },
  {
   "cell_type": "code",
   "execution_count": 3,
   "id": "23aa08d8",
   "metadata": {},
   "outputs": [],
   "source": [
    "# データセットをロード\n",
    "train_data = datasets.ImageFolder(\"データセットのパス（leave-one-outを利用していた）\", transform=transform)\n",
    "train_loader = DataLoader(train_data, batch_size=32, shuffle=True)"
   ]
  },
  {
   "cell_type": "code",
   "execution_count": 4,
   "id": "26e4877d",
   "metadata": {},
   "outputs": [],
   "source": [
    "# CNNモデルを定義\n",
    "\"\"\"\n",
    "class Net(nn.Module):\n",
    "    def __init__(self):\n",
    "        super(Net, self).__init__()\n",
    "        self.conv1 = nn.Conv2d(1, 10, kernel_size=5)\n",
    "        self.conv2 = nn.Conv2d(10, 20, kernel_size=5)\n",
    "        self.fc1 = nn.Linear(320, 50)\n",
    "        self.fc2 = nn.Linear(50, 2)\n",
    "\n",
    "    def forward(self, x):\n",
    "        x = self.conv1(x)\n",
    "        x = F.relu(F.max_pool2d(x, 2))\n",
    "        x = self.conv2(x)\n",
    "        x = F.relu(F.max_pool2d(x, 2))\n",
    "        x = x.view(-1, 320)\n",
    "        x = F.relu(self.fc1(x))\n",
    "        x = self.fc2(x)\n",
    "        return F.log_softmax(x, dim=1)\n",
    "\n",
    "\n",
    "class Net(nn.Module):\n",
    "    def __init__(self):\n",
    "        super(Net, self).__init__()\n",
    "        self.conv1 = nn.Conv2d(1, 32, kernel_size=3, padding=1)\n",
    "        self.conv2 = nn.Conv2d(32, 64, kernel_size=3, padding=1)\n",
    "        self.fc1 = nn.Linear(64*15*15, 256)\n",
    "        self.fc2 = nn.Linear(256, 128)\n",
    "        self.fc3 = nn.Linear(128, 2)\n",
    "\n",
    "    def forward(self, x):\n",
    "        x = F.relu(F.max_pool2d(self.conv1(x), 2))\n",
    "        x = F.relu(F.max_pool2d(self.conv2(x), 2))\n",
    "        x = x.view(-1, 64*15*15)\n",
    "        x = F.relu(self.fc1(x))\n",
    "        x = F.relu(self.fc2(x))\n",
    "        x = self.fc3(x)\n",
    "        return F.log_softmax(x, dim=1)\n",
    "\"\"\"\n",
    "\n",
    "class Net(nn.Module):\n",
    "    def __init__(self):\n",
    "        super(Net, self).__init__()\n",
    "        self.conv1 = nn.Conv2d(1, 16, kernel_size=3, padding=1)\n",
    "        self.conv2 = nn.Conv2d(16, 32, kernel_size=3, padding=1)\n",
    "        self.conv3 = nn.Conv2d(32, 64, kernel_size=3, padding=1)\n",
    "        self.fc1 = nn.Linear(64*30*30, 128)\n",
    "        self.fc2 = nn.Linear(128, 2)\n",
    "\n",
    "    def forward(self, x):\n",
    "        x = F.relu(self.conv1(x))\n",
    "        x = F.relu(self.conv2(x))\n",
    "        x = F.relu(self.conv3(x))\n",
    "        x = x.view(-1, 64*30*30)\n",
    "        x = F.relu(self.fc1(x))\n",
    "        x = self.fc2(x)\n",
    "        return F.log_softmax(x, dim=1)\n"
   ]
  },
  {
   "cell_type": "code",
   "execution_count": 5,
   "id": "a5756ea6",
   "metadata": {},
   "outputs": [],
   "source": [
    "# モデルとオプティマイザを定義\n",
    "model = Net()\n",
    "#optimizer = optim.Adam(model.parameters(), lr=0.001)\n",
    "optimizer = optim.SGD(model.parameters(), lr=0.001, momentum=0.5)"
   ]
  },
  {
   "cell_type": "code",
   "execution_count": 6,
   "id": "713ce711",
   "metadata": {},
   "outputs": [],
   "source": [
    "# 学習と評価\n",
    "def train(epoch):\n",
    "    model.train()\n",
    "    for batch_idx, (data, target) in enumerate(train_loader):\n",
    "        optimizer.zero_grad()\n",
    "        output = model(data)\n",
    "        loss = F.nll_loss(output, target)\n",
    "        loss.backward()\n",
    "        optimizer.step()\n",
    "        \"\"\"\n",
    "        if batch_idx % 10 == 0:\n",
    "            print('Train Epoch: {} [{}/{} ({:.0f}%)]\\tLoss: {:.6f}'.format(\n",
    "                epoch, batch_idx * len(data), len(train_loader.dataset),\n",
    "                100. * batch_idx / len(train_loader), loss.item()))\n",
    "            \"\"\"\n",
    "        \n",
    "def test():\n",
    "    model.eval()\n",
    "    test_loss = 0\n",
    "    correct = 0\n",
    "  \n",
    "    with torch.no_grad():\n",
    "        for data, target in train_loader:\n",
    "            output = model(data)\n",
    "            test_loss += F.nll_loss(output, target, reduction='sum').item()\n",
    "            pred = output.argmax(dim=1, keepdim=True)\n",
    "            correct += pred.eq(target.view_as(pred)).sum().item()\n",
    "\n",
    "    test_loss /= len(train_loader.dataset)\n",
    "    accuracy = 100. * correct / len(train_loader.dataset)\n",
    "    print('Test set {}: Average loss: {:.4f}, Accuracy: {}/{} ({:.0f}%)'.format(epoch, \n",
    "        test_loss, correct, len(train_loader.dataset), accuracy))\n",
    "  \n",
    "        \n",
    "    return accuracy        "
   ]
  },
  {
   "cell_type": "code",
   "execution_count": 7,
   "id": "1bac5334",
   "metadata": {
    "scrolled": false
   },
   "outputs": [
    {
     "name": "stdout",
     "output_type": "stream",
     "text": [
      "Test set 1: Average loss: 0.6936, Accuracy: 450/900 (50%)\n",
      "Test set 2: Average loss: 0.6934, Accuracy: 450/900 (50%)\n",
      "Test set 3: Average loss: 0.6933, Accuracy: 450/900 (50%)\n",
      "Test set 4: Average loss: 0.6933, Accuracy: 450/900 (50%)\n",
      "Test set 5: Average loss: 0.6933, Accuracy: 450/900 (50%)\n",
      "Test set 6: Average loss: 0.6932, Accuracy: 450/900 (50%)\n",
      "Test set 7: Average loss: 0.6931, Accuracy: 450/900 (50%)\n",
      "Test set 8: Average loss: 0.6931, Accuracy: 450/900 (50%)\n",
      "Test set 9: Average loss: 0.6931, Accuracy: 450/900 (50%)\n",
      "Test set 10: Average loss: 0.6931, Accuracy: 450/900 (50%)\n",
      "Test set 11: Average loss: 0.6931, Accuracy: 450/900 (50%)\n",
      "Test set 12: Average loss: 0.6931, Accuracy: 450/900 (50%)\n",
      "Test set 13: Average loss: 0.6931, Accuracy: 450/900 (50%)\n",
      "Test set 14: Average loss: 0.6931, Accuracy: 450/900 (50%)\n",
      "Test set 15: Average loss: 0.6931, Accuracy: 483/900 (54%)\n",
      "Test set 16: Average loss: 0.6931, Accuracy: 450/900 (50%)\n",
      "Test set 17: Average loss: 0.6931, Accuracy: 447/900 (50%)\n",
      "Test set 18: Average loss: 0.6931, Accuracy: 450/900 (50%)\n",
      "Test set 19: Average loss: 0.6931, Accuracy: 450/900 (50%)\n",
      "Test set 20: Average loss: 0.6930, Accuracy: 467/900 (52%)\n",
      "Test set 21: Average loss: 0.6930, Accuracy: 451/900 (50%)\n",
      "Test set 22: Average loss: 0.6930, Accuracy: 450/900 (50%)\n",
      "Test set 23: Average loss: 0.6930, Accuracy: 450/900 (50%)\n",
      "Test set 24: Average loss: 0.6930, Accuracy: 450/900 (50%)\n",
      "Test set 25: Average loss: 0.6930, Accuracy: 450/900 (50%)\n",
      "Test set 26: Average loss: 0.6930, Accuracy: 450/900 (50%)\n",
      "Test set 27: Average loss: 0.6930, Accuracy: 450/900 (50%)\n",
      "Test set 28: Average loss: 0.6930, Accuracy: 450/900 (50%)\n",
      "Test set 29: Average loss: 0.6930, Accuracy: 450/900 (50%)\n",
      "Test set 30: Average loss: 0.6930, Accuracy: 450/900 (50%)\n",
      "\n",
      "\n",
      "[50.0, 50.0, 50.0, 50.0, 50.0, 50.0, 50.0, 50.0, 50.0, 50.0, 50.0, 50.0, 50.0, 50.0, 53.7, 50.0, 49.7, 50.0, 50.0, 51.9, 50.1, 50.0, 50.0, 50.0, 50.0, 50.0, 50.0, 50.0, 50.0, 50.0]\n"
     ]
    }
   ],
   "source": [
    "# 各エポックでの正解率を保存するためのリスト\n",
    "accuracy_list = []\n",
    "\n",
    "for epoch in range(1, 30+1):\n",
    "    train(epoch)\n",
    "    accuracy = test()\n",
    "    accuracy_list.append(accuracy)\n",
    "\n",
    "acc_list = [round(accuracy_list[n], 1) for n in range(len(accuracy_list))]\n",
    "print(\"\\n\")\n",
    "print(acc_list)"
   ]
  },
  {
   "cell_type": "code",
   "execution_count": 8,
   "id": "0b2409ae",
   "metadata": {
    "scrolled": false
   },
   "outputs": [
    {
     "data": {
      "image/png": "[encoded data removed]",
      "text/plain": [
       "<Figure size 640x480 with 1 Axes>"
      ]
     },
     "metadata": {},
     "output_type": "display_data"
    }
   ],
   "source": [
    "# 過学習を確認するために正解率のグラフを表示\n",
    "plt.plot(accuracy_list)\n",
    "plt.show()"
   ]
  },
  {
   "cell_type": "code",
   "execution_count": 9,
   "id": "00daa9c4",
   "metadata": {},
   "outputs": [],
   "source": [
    "# モデルを保存\n",
    "torch.save(model.state_dict(), \"モデル保存のパス．model.pth\")"
   ]
  },
  {
   "cell_type": "code",
   "execution_count": null,
   "id": "5dc2e77c",
   "metadata": {},
   "outputs": [],
   "source": []
  },
  {
   "cell_type": "code",
   "execution_count": 10,
   "id": "8359141c",
   "metadata": {},
   "outputs": [
    {
     "name": "stdout",
     "output_type": "stream",
     "text": [
      "\n",
      "Test set: Average loss: 0.6930, Accuracy: 90/180 (50%)\n",
      "\n"
     ]
    }
   ],
   "source": [
    "def test(test_loader):\n",
    "    model.eval()\n",
    "    test_loss = 0\n",
    "    correct = 0\n",
    "    with torch.no_grad():\n",
    "        for data, target in test_loader:\n",
    "            output = model(data)\n",
    "            test_loss += F.nll_loss(output, target, reduction='sum').item()\n",
    "            pred = output.argmax(dim=1, keepdim=True)\n",
    "            correct += pred.eq(target.view_as(pred)).sum().item()\n",
    "\n",
    "    test_loss /= len(test_loader.dataset)\n",
    "    accuracy = 100. * correct / len(test_loader.dataset)\n",
    "    print('\\nTest set: Average loss: {:.4f}, Accuracy: {}/{} ({:.0f}%)\\n'.format(\n",
    "        test_loss, correct, len(test_loader.dataset), accuracy))\n",
    "    \n",
    "    return accuracy\n",
    "\n",
    "\n",
    "\n",
    "\n",
    "# モデルのロード\n",
    "\n",
    "model_path = \"モデルのパスmodel.pth\"\n",
    "model.load_state_dict(torch.load(model_path))\n",
    "model.eval()\n",
    "\n",
    "# 新たな人物のデータセットをロード\n",
    "new_person_data = datasets.ImageFolder(\"leave-ont-outのテストデータのパス\", transform=transform)\n",
    "new_person_loader = DataLoader(new_person_data, batch_size=8, shuffle=False)\n",
    "\n",
    "# テスト関数の呼び出し\n",
    "test_accuracy = test(new_person_loader)"
   ]
  },
  {
   "cell_type": "code",
   "execution_count": null,
   "id": "b127e639",
   "metadata": {},
   "outputs": [],
   "source": [
    "\n"
   ]
  },
  {
   "cell_type": "code",
   "execution_count": null,
   "id": "f3bfa710",
   "metadata": {},
   "outputs": [],
   "source": []
  }
 ],
 "metadata": {
  "kernelspec": {
   "display_name": "Python 3 (ipykernel)",
   "language": "python",
   "name": "python3"
  },
  "language_info": {
   "codemirror_mode": {
    "name": "ipython",
    "version": 3
   },
   "file_extension": ".py",
   "mimetype": "text/x-python",
   "name": "python",
   "nbconvert_exporter": "python",
   "pygments_lexer": "ipython3",
   "version": "3.10.9"
  }
 },
 "nbformat": 4,
 "nbformat_minor": 5
}
